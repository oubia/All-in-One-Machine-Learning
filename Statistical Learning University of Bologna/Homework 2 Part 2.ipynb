{
 "cells": [
  {
   "cell_type": "markdown",
   "id": "2570160a",
   "metadata": {},
   "source": [
    "# Homework 2 Part 2"
   ]
  },
  {
   "cell_type": "markdown",
   "id": "b3ac98fd",
   "metadata": {},
   "source": [
    "## Mohammed Oubia"
   ]
  },
  {
   "cell_type": "markdown",
   "id": "12ab6a14",
   "metadata": {},
   "source": [
    "## Classification of MNIST Digits with SVD Decomposition."
   ]
  },
  {
   "cell_type": "code",
   "execution_count": 1,
   "id": "b7bba123",
   "metadata": {},
   "outputs": [],
   "source": [
    "import numpy as np\n",
    "import pandas as pd\n",
    "from scipy.io import loadmat\n",
    "import matplotlib.pyplot as plt"
   ]
  },
  {
   "cell_type": "markdown",
   "id": "9d89486a",
   "metadata": {},
   "source": [
    "• Load the MNIST dataset contained in ./data/MNIST.mat with the function scipy.io.loadmat.\n",
    "This dataset, which is loaded in the form of a 256 ×1707 matrix X, contains the flattened version\n",
    "of 1707 16 × 16 grayscale handwritten digits. Moreover, from the same file it is possible to load\n",
    "a vector I of length 1707 such that the i-th element of I is the true digit represented by the i-th\n",
    "image of X.\n"
   ]
  },
  {
   "cell_type": "code",
   "execution_count": 2,
   "id": "706b0bb3",
   "metadata": {},
   "outputs": [
    {
     "name": "stdout",
     "output_type": "stream",
     "text": [
      "[[6 5 4 ... 7 9 8]]\n",
      "(256, 1707) (1, 1707)\n"
     ]
    }
   ],
   "source": [
    "data = loadmat('MNIST.mat')\n",
    "X=data[\"X\"]\n",
    "Y=data[\"I\"]\n",
    "print(Y)\n",
    "print(X.shape,Y.shape)"
   ]
  },
  {
   "cell_type": "markdown",
   "id": "b1be999c",
   "metadata": {},
   "source": [
    "• Visualize a bunch of datapoints of X with the function plt.imshow."
   ]
  },
  {
   "cell_type": "code",
   "execution_count": 3,
   "id": "35d164aa",
   "metadata": {},
   "outputs": [
    {
     "data": {
      "image/png": "[encoded data removed]",
      "text/plain": [
       "<Figure size 640x480 with 4 Axes>"
      ]
     },
     "metadata": {},
     "output_type": "display_data"
    }
   ],
   "source": [
    "plt.subplot(2,2,1)\n",
    "x1=np.reshape(X[:,0],(16,16))\n",
    "plt.imshow(x1,cmap=\"gray\")\n",
    "plt.subplot(2,2,2)\n",
    "x2=np.reshape(X[:,2],(16,16))\n",
    "plt.imshow(x2,cmap=\"gray\")\n",
    "plt.subplot(2,2,3)\n",
    "x3=np.reshape(X[:,10],(16,16))\n",
    "plt.imshow(x3,cmap=\"gray\")\n",
    "plt.subplot(2,2,4)\n",
    "x4=np.reshape(X[:,20],(16,16))\n",
    "plt.imshow(x4,cmap=\"gray\");"
   ]
  },
  {
   "cell_type": "markdown",
   "id": "8ccc9fe1",
   "metadata": {},
   "source": [
    "• Extract from X those columns that corresponds to digits 3 or 4. Those digits represents the\n",
    "classes C1 and C2 defined above."
   ]
  },
  {
   "cell_type": "code",
   "execution_count": 5,
   "id": "eac57151",
   "metadata": {},
   "outputs": [
    {
     "name": "stdout",
     "output_type": "stream",
     "text": [
      "(256, 253)\n",
      "(1, 253)\n"
     ]
    }
   ],
   "source": [
    "c1=3\n",
    "c2=4\n",
    "idx_12=(Y[0,:]==c1 )|( Y[0,:]==c2)\n",
    "X=X[:,idx_12]\n",
    "Y=Y[:,idx_12]\n",
    "print(X.shape)\n",
    "print(Y.shape)"
   ]
  },
  {
   "cell_type": "markdown",
   "id": "d204e095",
   "metadata": {},
   "source": [
    "• Split the obtained dataset in training and testing. From now on, we will only consider the training\n",
    "set. The test set will be only used at the end of the exercise to test the algorithm."
   ]
  },
  {
   "cell_type": "code",
   "execution_count": 7,
   "id": "a5d856e0",
   "metadata": {},
   "outputs": [
    {
     "name": "stdout",
     "output_type": "stream",
     "text": [
      "(1, 253)\n",
      "(256, 200) (256, 53)\n"
     ]
    }
   ],
   "source": [
    "def split_data(X, Y, Ntrain):\n",
    "    d, N = X.shape\n",
    "    idx = np.arange(N)\n",
    "    np.random.shuffle(idx)\n",
    "    train_idx = idx[:Ntrain]\n",
    "    test_idx = idx[Ntrain:]\n",
    "    Xtrain = X[:, train_idx]\n",
    "    print(Y.shape)\n",
    "    Ytrain = Y[:,train_idx]\n",
    "    Xtest = X[:, test_idx]\n",
    "    Ytest = Y[0,test_idx]\n",
    "    return (Xtrain, Ytrain), (Xtest, Ytest)\n",
    "# Test \n",
    "(Xtrain, Ytrain), (Xtest, Ytest) = split_data(X, Y, 200)\n",
    "print(Xtrain.shape, Xtest.shape)"
   ]
  },
  {
   "cell_type": "markdown",
   "id": "65200c68",
   "metadata": {},
   "source": [
    "• Create the matrices X1 and X2 defined above from X."
   ]
  },
  {
   "cell_type": "code",
   "execution_count": 8,
   "id": "5200839e",
   "metadata": {},
   "outputs": [],
   "source": [
    "def data_2split_classes(X,c1,c2):\n",
    "    idx1 = (Ytrain[0,:] == c1)\n",
    "    X1 = Xtrain[:, idx1]\n",
    "    idx2 = (Ytrain[0,:] == c2)\n",
    "    X2 = Xtrain[:, idx2]\n",
    "    return X1,X2\n",
    "X1,X2=data_2split_classes(Xtrain,c1,c2)"
   ]
  },
  {
   "cell_type": "markdown",
   "id": "c8b44ff0",
   "metadata": {},
   "source": [
    "• Compute the SVD decomposition of X1 and X2 with np.linalg.svd(matrix, full matrices=False)\n",
    "and denote the U-part of the two decompositions as U1 and U2."
   ]
  },
  {
   "cell_type": "code",
   "execution_count": 9,
   "id": "cf68b4e1",
   "metadata": {},
   "outputs": [],
   "source": [
    "U1, s1, VT1 = np.linalg.svd(X1, full_matrices=False)\n",
    "U2, s2, VT2 = np.linalg.svd(X2, full_matrices=False)\n",
    "\n",
    "def compute_y_t(Xi,y):\n",
    "    Ui, si, VTi = np.linalg.svd(Xi, full_matrices=False)\n",
    "    return Ui @ (Ui.T @ y)"
   ]
  },
  {
   "cell_type": "markdown",
   "id": "cba3188e",
   "metadata": {},
   "source": [
    "• Take an unknown digit y from the test set, and compute y\n",
    "⊥\n",
    "1 = U1(U\n",
    "T\n",
    "1\n",
    "y) and y\n",
    "⊥\n",
    "2 = U2(U\n",
    "T\n",
    "2\n",
    "y)."
   ]
  },
  {
   "cell_type": "code",
   "execution_count": 10,
   "id": "0353f94b",
   "metadata": {},
   "outputs": [],
   "source": [
    "max_idx=Xtest.shape[1]\n",
    "r = np.random.randint(1,max_idx)\n",
    "y = Xtest[:,r-1:r]\n",
    "y1_t = compute_y_t(X1,y)\n",
    "y2_t = compute_y_t(X2,y)"
   ]
  },
  {
   "cell_type": "markdown",
   "id": "a8754db4",
   "metadata": {},
   "source": [
    "• Compute the distances d1 = ||y − y\n",
    "⊥\n",
    "1\n",
    "||2 and d2 = ||y − y\n",
    "⊥\n",
    "2\n",
    "||2 and classify y to C1 if d1 < d2 and\n",
    "to C2 if d2 < d1."
   ]
  },
  {
   "cell_type": "code",
   "execution_count": 13,
   "id": "87c111bd",
   "metadata": {},
   "outputs": [],
   "source": [
    "def compute_distance(X1,X2,y):\n",
    "    y1_t = compute_y_t(X1,y)\n",
    "    y2_t = compute_y_t(X2,y)\n",
    "    d1 = np.linalg.norm(y - y1_t, 2)\n",
    "    d2 = np.linalg.norm(y - y2_t, 2)\n",
    "    return d1,d2"
   ]
  },
  {
   "cell_type": "code",
   "execution_count": 14,
   "id": "34b37d9c",
   "metadata": {},
   "outputs": [
    {
     "name": "stdout",
     "output_type": "stream",
     "text": [
      "Distance of Y_1 is 2.3900506311728726\n",
      "Distance of Y_2 is 1.00994569528346\n",
      "Belong to class: 4\n"
     ]
    }
   ],
   "source": [
    "d1,d2=compute_distance(X1,X2,y)\n",
    "print(f\"Distance of Y_1 is {d1}\")\n",
    "print(f\"Distance of Y_2 is {d2}\")\n",
    "if d1 < d2:\n",
    "    print(f\"Belong to class: {c1}\")\n",
    "else:\n",
    "    print(f\"Belong to class: {c2}\")"
   ]
  },
  {
   "cell_type": "markdown",
   "id": "2cc68a09",
   "metadata": {},
   "source": [
    "• Repeat the experiment for different values of y in the test set. Compute the misclassification\n",
    "number for this algorithm.\n"
   ]
  },
  {
   "cell_type": "code",
   "execution_count": 15,
   "id": "2f97b5e3",
   "metadata": {},
   "outputs": [],
   "source": [
    "def compute_classification(X1,X2,c1,c2,Xtest):\n",
    "    Ypred=[]\n",
    "    for i in Xtest:\n",
    "        d1,d2=compute_distance(X1,X2,i)\n",
    "    if d1<d2:\n",
    "        Ypred.append(c1)\n",
    "    else:\n",
    "        Ypred.append(c2)\n",
    "    return Ypred"
   ]
  },
  {
   "cell_type": "code",
   "execution_count": 16,
   "id": "90bf259b",
   "metadata": {},
   "outputs": [],
   "source": [
    "def compute_missclassification_error(X1,X2,c1,c2,Xtest,Ytest):\n",
    "    Ypred=compute_classification(X1,X2,c1,c2,Xtest)\n",
    "    right_classified=sum((Ytest==Ypred))\n",
    "    if type(right_classified)==np.int32:\n",
    "        error=right_classified/len(Ytest) *100\n",
    "    else:\n",
    "        error=right_classified[0]/len(Ytest) *100\n",
    "\n",
    "    print(\"Percentage of data correctly classified is: \",error,\" %\")\n",
    "    return"
   ]
  },
  {
   "cell_type": "code",
   "execution_count": 18,
   "id": "b8ed3b8b",
   "metadata": {},
   "outputs": [
    {
     "name": "stdout",
     "output_type": "stream",
     "text": [
      "Missclassification for Training data:\n",
      "Percentage of data correctly classified is:  100.0  %\n",
      "Missclassification for Test data:\n"
     ]
    },
    {
     "ename": "IndexError",
     "evalue": "invalid index to scalar variable.",
     "output_type": "error",
     "traceback": [
      "\u001b[1;31m---------------------------------------------------------------------------\u001b[0m",
      "\u001b[1;31mIndexError\u001b[0m                                Traceback (most recent call last)",
      "Cell \u001b[1;32mIn[18], line 4\u001b[0m\n\u001b[0;32m      2\u001b[0m compute_missclassification_error(X1,X2,c1,c2,Xtrain\u001b[38;5;241m.\u001b[39mT,Ytrain)\n\u001b[0;32m      3\u001b[0m \u001b[38;5;28mprint\u001b[39m(\u001b[38;5;124m\"\u001b[39m\u001b[38;5;124mMissclassification for Test data:\u001b[39m\u001b[38;5;124m\"\u001b[39m)\n\u001b[1;32m----> 4\u001b[0m \u001b[43mcompute_missclassification_error\u001b[49m\u001b[43m(\u001b[49m\u001b[43mX1\u001b[49m\u001b[43m,\u001b[49m\u001b[43mX2\u001b[49m\u001b[43m,\u001b[49m\u001b[43mc1\u001b[49m\u001b[43m,\u001b[49m\u001b[43mc2\u001b[49m\u001b[43m,\u001b[49m\u001b[43mXtest\u001b[49m\u001b[38;5;241;43m.\u001b[39;49m\u001b[43mT\u001b[49m\u001b[43m,\u001b[49m\u001b[43mYtest\u001b[49m\u001b[43m)\u001b[49m\n",
      "Cell \u001b[1;32mIn[16], line 7\u001b[0m, in \u001b[0;36mcompute_missclassification_error\u001b[1;34m(X1, X2, c1, c2, Xtest, Ytest)\u001b[0m\n\u001b[0;32m      5\u001b[0m     error\u001b[38;5;241m=\u001b[39mright_classified\u001b[38;5;241m/\u001b[39m\u001b[38;5;28mlen\u001b[39m(Ytest) \u001b[38;5;241m*\u001b[39m\u001b[38;5;241m100\u001b[39m\n\u001b[0;32m      6\u001b[0m \u001b[38;5;28;01melse\u001b[39;00m:\n\u001b[1;32m----> 7\u001b[0m     error\u001b[38;5;241m=\u001b[39m\u001b[43mright_classified\u001b[49m\u001b[43m[\u001b[49m\u001b[38;5;241;43m0\u001b[39;49m\u001b[43m]\u001b[49m\u001b[38;5;241m/\u001b[39m\u001b[38;5;28mlen\u001b[39m(Ytest) \u001b[38;5;241m*\u001b[39m\u001b[38;5;241m100\u001b[39m\n\u001b[0;32m      9\u001b[0m \u001b[38;5;28mprint\u001b[39m(\u001b[38;5;124m\"\u001b[39m\u001b[38;5;124mPercentage of data correctly classified is: \u001b[39m\u001b[38;5;124m\"\u001b[39m,error,\u001b[38;5;124m\"\u001b[39m\u001b[38;5;124m \u001b[39m\u001b[38;5;124m%\u001b[39m\u001b[38;5;124m\"\u001b[39m)\n\u001b[0;32m     10\u001b[0m \u001b[38;5;28;01mreturn\u001b[39;00m\n",
      "\u001b[1;31mIndexError\u001b[0m: invalid index to scalar variable."
     ]
    }
   ],
   "source": [
    "print(\"Missclassification for Training data:\")\n",
    "compute_missclassification_error(X1,X2,c1,c2,Xtrain.T,Ytrain)\n",
    "print(\"Missclassification for Test data:\")\n",
    "compute_missclassification_error(X1,X2,c1,c2,Xtest.T,Ytest)"
   ]
  },
  {
   "cell_type": "markdown",
   "id": "264be437",
   "metadata": {},
   "source": [
    "### ___________________________________________________________________________________________"
   ]
  },
  {
   "cell_type": "markdown",
   "id": "ef388b97",
   "metadata": {},
   "source": [
    "• Repeat the experiment for different digits other than 3 or 4. There is a relationship between the\n",
    "visual similarity of the digits and the classification error?"
   ]
  },
  {
   "cell_type": "code",
   "execution_count": 32,
   "id": "5a4cd74b",
   "metadata": {},
   "outputs": [
    {
     "name": "stdout",
     "output_type": "stream",
     "text": [
      "Shape of X (256, 283)\n",
      "Shape of Y (1, 283)\n",
      "(1, 283)\n",
      "Shape of Xtrain (256, 200)  shape of Xtest (256, 83)\n",
      "Missclassification for Training data:\n",
      "Percentage of data correctly classified is:  0.0  %\n",
      "Missclassification for Test data:\n",
      "Percentage of data correctly classified is:  44.57831325301205  %\n"
     ]
    }
   ],
   "source": [
    "X=data[\"X\"]\n",
    "Y=data[\"I\"]\n",
    "c1=6\n",
    "c2=9\n",
    "idx_12=(Y[0,:]==c1 )|( Y[0,:]==c2)\n",
    "X=X[:,idx_12]\n",
    "Y=Y[:,idx_12]\n",
    "print(\"Shape of X\",X.shape)\n",
    "print(\"Shape of Y\",Y.shape)\n",
    "(Xtrain, Ytrain), (Xtest, Ytest) = split_data(X, Y, 200)\n",
    "print(f\"Shape of Xtrain {Xtrain.shape}  shape of Xtest {Xtest.shape}\")\n",
    "X1,X2=data_2split_classes(Xtrain,c1,c2)\n",
    "print(\"Missclassification for Training data:\")\n",
    "compute_missclassification_error(X1,X2,c1,c2,Xtrain.T,Ytrain)\n",
    "print(\"Missclassification for Test data:\")\n",
    "compute_missclassification_error(X1,X2,c1,c2,Xtest.T,Ytest)"
   ]
  },
  {
   "cell_type": "markdown",
   "id": "aaed1b9a",
   "metadata": {},
   "source": [
    "2. The extension of this idea to the multiple classification task is trivial. Indeed, if we have more than\n",
    "2 classes (say, k different classes) C1, . . . , Ck, we just need to repeat the same procedure as before for\n",
    "each matrix X1, . . . , Xk to obtain the distances d1, . . . , dk. Then, the new digit y will be classified as\n",
    "Ci\n",
    "if di\n",
    "is lower that dj for each j = 1, . . . , k.\n",
    "Repeat the exercise above with a 3-digit example. Comment the differences."
   ]
  },
  {
   "cell_type": "code",
   "execution_count": 33,
   "id": "d98e5e26",
   "metadata": {},
   "outputs": [
    {
     "name": "stdout",
     "output_type": "stream",
     "text": [
      "Shape of X (256, 414)\n",
      "Shape of Y (1, 414)\n",
      "(1, 414)\n",
      "Shape of Xtrain (256, 300)  shape of Xtest (256, 114)\n"
     ]
    }
   ],
   "source": [
    "X=data[\"X\"]\n",
    "Y=data[\"I\"]\n",
    "c1=3\n",
    "c2=6\n",
    "c3=9\n",
    "idx_123=(Y[0,:]==c1 )|( Y[0,:]==c2)|( Y[0,:]==c3)\n",
    "X=X[:,idx_123]\n",
    "Y=Y[:,idx_123]\n",
    "print(\"Shape of X\",X.shape)\n",
    "print(\"Shape of Y\",Y.shape)\n",
    "(Xtrain, Ytrain), (Xtest, Ytest) = split_data(X, Y, 300)\n",
    "print(f\"Shape of Xtrain {Xtrain.shape}  shape of Xtest {Xtest.shape}\")"
   ]
  },
  {
   "cell_type": "code",
   "execution_count": 12,
   "id": "25e47083",
   "metadata": {},
   "outputs": [
    {
     "ename": "NameError",
     "evalue": "name 'c3' is not defined",
     "output_type": "error",
     "traceback": [
      "\u001b[1;31m---------------------------------------------------------------------------\u001b[0m",
      "\u001b[1;31mNameError\u001b[0m                                 Traceback (most recent call last)",
      "Cell \u001b[1;32mIn[12], line 10\u001b[0m\n\u001b[0;32m      7\u001b[0m     X3 \u001b[38;5;241m=\u001b[39m Xtrain[:, idx3]\n\u001b[0;32m      8\u001b[0m     \u001b[38;5;28;01mreturn\u001b[39;00m X1,X2,X3\n\u001b[1;32m---> 10\u001b[0m X1,X2,X3\u001b[38;5;241m=\u001b[39mdata_3split_classes(Xtrain,c1,c2,\u001b[43mc3\u001b[49m)\n\u001b[0;32m     12\u001b[0m \u001b[38;5;28;01mdef\u001b[39;00m \u001b[38;5;21mcompute_distance3\u001b[39m(X1,X2,X3,y):\n\u001b[0;32m     13\u001b[0m     y1_t \u001b[38;5;241m=\u001b[39m compute_y_t(X1,y)\n",
      "\u001b[1;31mNameError\u001b[0m: name 'c3' is not defined"
     ]
    }
   ],
   "source": [
    "def data_3split_classes(X,c1,c2,c3):\n",
    "    idx1 = (Ytrain[0,:] == c1)\n",
    "    X1 = Xtrain[:, idx1]\n",
    "    idx2 = (Ytrain[0,:] == c2)\n",
    "    X2 = Xtrain[:, idx2]\n",
    "    idx3 = (Ytrain[0,:] == c3)\n",
    "    X3 = Xtrain[:, idx3]\n",
    "    return X1,X2,X3\n",
    "\n",
    "X1,X2,X3=data_3split_classes(Xtrain,c1,c2,c3)\n",
    "\n",
    "def compute_distance3(X1,X2,X3,y):\n",
    "    y1_t = compute_y_t(X1,y)\n",
    "    y2_t = compute_y_t(X2,y)\n",
    "    y3_t = compute_y_t(X3,y)\n",
    "    d1 = np.linalg.norm(y - y1_t, 2)\n",
    "    d2 = np.linalg.norm(y - y2_t, 2)\n",
    "    d3 = np.linalg.norm(y - y3_t, 2)\n",
    "    return d1,d2,d3\n",
    "\n",
    "def compute_y_t(Xi,y):\n",
    "    Ui, si, VTi = np.linalg.svd(Xi, full_matrices=False)\n",
    "    return Ui @ (Ui.T @ y)\n",
    " \n",
    "def compute_classification3(X1,X2,c1,c2,c3,Xtest):\n",
    "    Ypred=[]\n",
    "    for i in Xtest:\n",
    "        d1,d2,d3=compute_distance3(X1,X2,X3,i)\n",
    "        mini=min(d1,d2,d3)\n",
    "        if mini==d1:\n",
    "            Ypred.append(c1)\n",
    "        if mini==d2:\n",
    "            Ypred.append(c2)\n",
    "        if mini==d3:\n",
    "            Ypred.append(c3)\n",
    "    return Ypred\n",
    " \n",
    "def compute_missclassification_error3(X1,X2,c1,c2,c3,Xtest,Ytest):\n",
    "    Ypred=compute_classification3(X1,X2,c1,c2,c3,Xtest)\n",
    "    right_classified=sum((Ytest==Ypred))\n",
    "    if type(right_classified)==np.int32:\n",
    "        error=right_classified/len(Ytest) *100\n",
    "    else:\n",
    "        error=right_classified[0]/len(Ytest) *100 \n",
    "    print(\"Percentage of data correctly classified is: \",error,\" %\")\n",
    "    return"
   ]
  },
  {
   "cell_type": "code",
   "execution_count": 11,
   "id": "4bc2aea6",
   "metadata": {},
   "outputs": [
    {
     "name": "stdout",
     "output_type": "stream",
     "text": [
      "Missclassification for Training data:\n"
     ]
    },
    {
     "ename": "NameError",
     "evalue": "name 'compute_missclassification_error3' is not defined",
     "output_type": "error",
     "traceback": [
      "\u001b[1;31m---------------------------------------------------------------------------\u001b[0m",
      "\u001b[1;31mNameError\u001b[0m                                 Traceback (most recent call last)",
      "Cell \u001b[1;32mIn[11], line 2\u001b[0m\n\u001b[0;32m      1\u001b[0m \u001b[38;5;28mprint\u001b[39m(\u001b[38;5;124m\"\u001b[39m\u001b[38;5;124mMissclassification for Training data:\u001b[39m\u001b[38;5;124m\"\u001b[39m)\n\u001b[1;32m----> 2\u001b[0m \u001b[43mcompute_missclassification_error3\u001b[49m(X1,X2,c1,c2,c3,Xtrain\u001b[38;5;241m.\u001b[39mT,Ytrain)\n\u001b[0;32m      3\u001b[0m \u001b[38;5;28mprint\u001b[39m(\u001b[38;5;124m\"\u001b[39m\u001b[38;5;124mMissclassification for Test data:\u001b[39m\u001b[38;5;124m\"\u001b[39m)\n\u001b[0;32m      4\u001b[0m compute_missclassification_error3(X1,X2,c1,c2,c3,Xtest\u001b[38;5;241m.\u001b[39mT,Ytest)\n",
      "\u001b[1;31mNameError\u001b[0m: name 'compute_missclassification_error3' is not defined"
     ]
    }
   ],
   "source": [
    "print(\"Missclassification for Training data:\")\n",
    "compute_missclassification_error3(X1,X2,c1,c2,c3,Xtrain.T,Ytrain)\n",
    "print(\"Missclassification for Test data:\")\n",
    "compute_missclassification_error3(X1,X2,c1,c2,c3,Xtest.T,Ytest)"
   ]
  },
  {
   "cell_type": "markdown",
   "id": "781d33ce",
   "metadata": {},
   "source": [
    "The percentage is really good, but still worse than 3 and 4, the reason can be that 3 and 4 are really different from each other, while 6 and 9 seems really similar, so the distance computed is really similar.\n"
   ]
  },
  {
   "cell_type": "markdown",
   "id": "fd075410",
   "metadata": {},
   "source": [
    "## End"
   ]
  }
 ],
 "metadata": {
  "kernelspec": {
   "display_name": "venv",
   "language": "python",
   "name": "python3"
  },
  "language_info": {
   "codemirror_mode": {
    "name": "ipython",
    "version": 3
   },
   "file_extension": ".py",
   "mimetype": "text/x-python",
   "name": "python",
   "nbconvert_exporter": "python",
   "pygments_lexer": "ipython3",
   "version": "3.13.0"
  }
 },
 "nbformat": 4,
 "nbformat_minor": 5
}
